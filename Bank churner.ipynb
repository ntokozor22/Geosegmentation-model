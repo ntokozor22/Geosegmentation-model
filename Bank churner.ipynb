{
 "cells": [
  {
   "cell_type": "code",
   "execution_count": 1,
   "id": "ed0fa399",
   "metadata": {},
   "outputs": [],
   "source": [
    "import numpy as np\n",
    "import pandas as pd \n",
    "import matplotlib.pyplot as plt\n",
    "import seaborn as sns\n",
    "from sklearn.model_selection import StratifiedKFold\n",
    "%matplotlib inline"
   ]
  },
  {
   "cell_type": "code",
   "execution_count": 2,
   "id": "9dbfb09e",
   "metadata": {},
   "outputs": [],
   "source": [
    "# Now to load the bank churner data\n",
    "data = pd.read_excel('C:/Users/user/Downloads/P12-Churn-Modelling.xlsx')"
   ]
  },
  {
   "cell_type": "code",
   "execution_count": 3,
   "id": "e3cb653d",
   "metadata": {},
   "outputs": [],
   "source": [
    "# make a copy of the data that will be analysed in case something goes wrong\n",
    "df = data.copy()"
   ]
  },
  {
   "cell_type": "code",
   "execution_count": 4,
   "id": "819bba5f",
   "metadata": {},
   "outputs": [
    {
     "data": {
      "text/html": [
       "<div>\n",
       "<style scoped>\n",
       "    .dataframe tbody tr th:only-of-type {\n",
       "        vertical-align: middle;\n",
       "    }\n",
       "\n",
       "    .dataframe tbody tr th {\n",
       "        vertical-align: top;\n",
       "    }\n",
       "\n",
       "    .dataframe thead th {\n",
       "        text-align: right;\n",
       "    }\n",
       "</style>\n",
       "<table border=\"1\" class=\"dataframe\">\n",
       "  <thead>\n",
       "    <tr style=\"text-align: right;\">\n",
       "      <th></th>\n",
       "      <th>RowNumber</th>\n",
       "      <th>CustomerId</th>\n",
       "      <th>Surname</th>\n",
       "      <th>CreditScore</th>\n",
       "      <th>Geography</th>\n",
       "      <th>Gender</th>\n",
       "      <th>Age</th>\n",
       "      <th>Tenure</th>\n",
       "      <th>Balance</th>\n",
       "      <th>NumOfProducts</th>\n",
       "      <th>HasCrCard</th>\n",
       "      <th>IsActiveMember</th>\n",
       "      <th>EstimatedSalary</th>\n",
       "      <th>Exited</th>\n",
       "    </tr>\n",
       "  </thead>\n",
       "  <tbody>\n",
       "    <tr>\n",
       "      <th>0</th>\n",
       "      <td>1</td>\n",
       "      <td>15634602</td>\n",
       "      <td>Hargrave</td>\n",
       "      <td>619</td>\n",
       "      <td>France</td>\n",
       "      <td>Female</td>\n",
       "      <td>42</td>\n",
       "      <td>2</td>\n",
       "      <td>0.00</td>\n",
       "      <td>1</td>\n",
       "      <td>1</td>\n",
       "      <td>1</td>\n",
       "      <td>101348.88</td>\n",
       "      <td>1</td>\n",
       "    </tr>\n",
       "    <tr>\n",
       "      <th>1</th>\n",
       "      <td>2</td>\n",
       "      <td>15647311</td>\n",
       "      <td>Hill</td>\n",
       "      <td>608</td>\n",
       "      <td>Spain</td>\n",
       "      <td>Female</td>\n",
       "      <td>41</td>\n",
       "      <td>1</td>\n",
       "      <td>83807.86</td>\n",
       "      <td>1</td>\n",
       "      <td>0</td>\n",
       "      <td>1</td>\n",
       "      <td>112542.58</td>\n",
       "      <td>0</td>\n",
       "    </tr>\n",
       "    <tr>\n",
       "      <th>2</th>\n",
       "      <td>3</td>\n",
       "      <td>15619304</td>\n",
       "      <td>Onio</td>\n",
       "      <td>502</td>\n",
       "      <td>France</td>\n",
       "      <td>Female</td>\n",
       "      <td>42</td>\n",
       "      <td>8</td>\n",
       "      <td>159660.80</td>\n",
       "      <td>3</td>\n",
       "      <td>1</td>\n",
       "      <td>0</td>\n",
       "      <td>113931.57</td>\n",
       "      <td>1</td>\n",
       "    </tr>\n",
       "    <tr>\n",
       "      <th>3</th>\n",
       "      <td>4</td>\n",
       "      <td>15701354</td>\n",
       "      <td>Boni</td>\n",
       "      <td>699</td>\n",
       "      <td>France</td>\n",
       "      <td>Female</td>\n",
       "      <td>39</td>\n",
       "      <td>1</td>\n",
       "      <td>0.00</td>\n",
       "      <td>2</td>\n",
       "      <td>0</td>\n",
       "      <td>0</td>\n",
       "      <td>93826.63</td>\n",
       "      <td>0</td>\n",
       "    </tr>\n",
       "    <tr>\n",
       "      <th>4</th>\n",
       "      <td>5</td>\n",
       "      <td>15737888</td>\n",
       "      <td>Mitchell</td>\n",
       "      <td>850</td>\n",
       "      <td>Spain</td>\n",
       "      <td>Female</td>\n",
       "      <td>43</td>\n",
       "      <td>2</td>\n",
       "      <td>125510.82</td>\n",
       "      <td>1</td>\n",
       "      <td>1</td>\n",
       "      <td>1</td>\n",
       "      <td>79084.10</td>\n",
       "      <td>0</td>\n",
       "    </tr>\n",
       "  </tbody>\n",
       "</table>\n",
       "</div>"
      ],
      "text/plain": [
       "   RowNumber  CustomerId   Surname  CreditScore Geography  Gender  Age  \\\n",
       "0          1    15634602  Hargrave          619    France  Female   42   \n",
       "1          2    15647311      Hill          608     Spain  Female   41   \n",
       "2          3    15619304      Onio          502    France  Female   42   \n",
       "3          4    15701354      Boni          699    France  Female   39   \n",
       "4          5    15737888  Mitchell          850     Spain  Female   43   \n",
       "\n",
       "   Tenure    Balance  NumOfProducts  HasCrCard  IsActiveMember  \\\n",
       "0       2       0.00              1          1               1   \n",
       "1       1   83807.86              1          0               1   \n",
       "2       8  159660.80              3          1               0   \n",
       "3       1       0.00              2          0               0   \n",
       "4       2  125510.82              1          1               1   \n",
       "\n",
       "   EstimatedSalary  Exited  \n",
       "0        101348.88       1  \n",
       "1        112542.58       0  \n",
       "2        113931.57       1  \n",
       "3         93826.63       0  \n",
       "4         79084.10       0  "
      ]
     },
     "execution_count": 4,
     "metadata": {},
     "output_type": "execute_result"
    }
   ],
   "source": [
    "df.head()"
   ]
  },
  {
   "cell_type": "code",
   "execution_count": 5,
   "id": "c978d71c",
   "metadata": {},
   "outputs": [
    {
     "name": "stdout",
     "output_type": "stream",
     "text": [
      "<class 'pandas.core.frame.DataFrame'>\n",
      "RangeIndex: 10000 entries, 0 to 9999\n",
      "Data columns (total 14 columns):\n",
      " #   Column           Non-Null Count  Dtype  \n",
      "---  ------           --------------  -----  \n",
      " 0   RowNumber        10000 non-null  int64  \n",
      " 1   CustomerId       10000 non-null  int64  \n",
      " 2   Surname          10000 non-null  object \n",
      " 3   CreditScore      10000 non-null  int64  \n",
      " 4   Geography        10000 non-null  object \n",
      " 5   Gender           10000 non-null  object \n",
      " 6   Age              10000 non-null  int64  \n",
      " 7   Tenure           10000 non-null  int64  \n",
      " 8   Balance          10000 non-null  float64\n",
      " 9   NumOfProducts    10000 non-null  int64  \n",
      " 10  HasCrCard        10000 non-null  int64  \n",
      " 11  IsActiveMember   10000 non-null  int64  \n",
      " 12  EstimatedSalary  10000 non-null  float64\n",
      " 13  Exited           10000 non-null  int64  \n",
      "dtypes: float64(2), int64(9), object(3)\n",
      "memory usage: 1.1+ MB\n"
     ]
    }
   ],
   "source": [
    "df.info()"
   ]
  },
  {
   "cell_type": "markdown",
   "id": "be9f1fcc",
   "metadata": {},
   "source": [
    "based on the above information, this data has 10000 rows and 13 columns. There is no missing data"
   ]
  },
  {
   "cell_type": "code",
   "execution_count": 6,
   "id": "45ecaf9a",
   "metadata": {},
   "outputs": [],
   "source": [
    "# Remove duplicate values\n",
    "df.drop_duplicates(inplace = True)"
   ]
  },
  {
   "cell_type": "code",
   "execution_count": 7,
   "id": "c273c6aa",
   "metadata": {},
   "outputs": [
    {
     "name": "stdout",
     "output_type": "stream",
     "text": [
      "<class 'pandas.core.frame.DataFrame'>\n",
      "Int64Index: 10000 entries, 0 to 9999\n",
      "Data columns (total 14 columns):\n",
      " #   Column           Non-Null Count  Dtype  \n",
      "---  ------           --------------  -----  \n",
      " 0   RowNumber        10000 non-null  int64  \n",
      " 1   CustomerId       10000 non-null  int64  \n",
      " 2   Surname          10000 non-null  object \n",
      " 3   CreditScore      10000 non-null  int64  \n",
      " 4   Geography        10000 non-null  object \n",
      " 5   Gender           10000 non-null  object \n",
      " 6   Age              10000 non-null  int64  \n",
      " 7   Tenure           10000 non-null  int64  \n",
      " 8   Balance          10000 non-null  float64\n",
      " 9   NumOfProducts    10000 non-null  int64  \n",
      " 10  HasCrCard        10000 non-null  int64  \n",
      " 11  IsActiveMember   10000 non-null  int64  \n",
      " 12  EstimatedSalary  10000 non-null  float64\n",
      " 13  Exited           10000 non-null  int64  \n",
      "dtypes: float64(2), int64(9), object(3)\n",
      "memory usage: 1.1+ MB\n"
     ]
    }
   ],
   "source": [
    "df.info()"
   ]
  },
  {
   "cell_type": "markdown",
   "id": "e81e98f4",
   "metadata": {},
   "source": [
    "There were no duplicate values on the data"
   ]
  },
  {
   "cell_type": "code",
   "execution_count": 8,
   "id": "17d1bdde",
   "metadata": {},
   "outputs": [],
   "source": [
    "# Change a few column types into objects\n",
    "df[['Exited','HasCrCard','CustomerId','RowNumber','NumOfProducts','IsActiveMember']] = df[['Exited','HasCrCard','CustomerId','RowNumber','NumOfProducts','IsActiveMember']].astype(str)"
   ]
  },
  {
   "cell_type": "markdown",
   "id": "f0ef8530",
   "metadata": {},
   "source": [
    "Write a function that will replace outliers with the median"
   ]
  },
  {
   "cell_type": "code",
   "execution_count": 9,
   "id": "10828fea",
   "metadata": {},
   "outputs": [],
   "source": [
    "def outlier_remover(df):\n",
    "    for i in df.describe().columns:\n",
    "        Q1=df.describe().at['25%',i]\n",
    "        Q3=df.describe().at['75%',i]\n",
    "        IQR=Q3 - Q1\n",
    "        LTV=Q1 - 1.5 * IQR\n",
    "        UTV=Q3 + 1.5 * IQR\n",
    "        x=np.array(df[i])\n",
    "        p=[]\n",
    "        for j in x:\n",
    "            if j < LTV or j>UTV:\n",
    "                p.append(df[i].median())\n",
    "            else:\n",
    "                p.append(j)\n",
    "        df[i]=p\n",
    "    return df"
   ]
  },
  {
   "cell_type": "code",
   "execution_count": 10,
   "id": "b4f64aca",
   "metadata": {},
   "outputs": [],
   "source": [
    "df1 = outlier_remover(df) "
   ]
  },
  {
   "cell_type": "code",
   "execution_count": 11,
   "id": "22987ccb",
   "metadata": {},
   "outputs": [
    {
     "name": "stdout",
     "output_type": "stream",
     "text": [
      "<class 'pandas.core.frame.DataFrame'>\n",
      "Int64Index: 10000 entries, 0 to 9999\n",
      "Data columns (total 14 columns):\n",
      " #   Column           Non-Null Count  Dtype  \n",
      "---  ------           --------------  -----  \n",
      " 0   RowNumber        10000 non-null  object \n",
      " 1   CustomerId       10000 non-null  object \n",
      " 2   Surname          10000 non-null  object \n",
      " 3   CreditScore      10000 non-null  float64\n",
      " 4   Geography        10000 non-null  object \n",
      " 5   Gender           10000 non-null  object \n",
      " 6   Age              10000 non-null  float64\n",
      " 7   Tenure           10000 non-null  int64  \n",
      " 8   Balance          10000 non-null  float64\n",
      " 9   NumOfProducts    10000 non-null  object \n",
      " 10  HasCrCard        10000 non-null  object \n",
      " 11  IsActiveMember   10000 non-null  object \n",
      " 12  EstimatedSalary  10000 non-null  float64\n",
      " 13  Exited           10000 non-null  object \n",
      "dtypes: float64(4), int64(1), object(9)\n",
      "memory usage: 1.1+ MB\n"
     ]
    }
   ],
   "source": [
    "df1.info()"
   ]
  },
  {
   "cell_type": "code",
   "execution_count": 12,
   "id": "4c77d72e",
   "metadata": {},
   "outputs": [
    {
     "data": {
      "text/html": [
       "<div>\n",
       "<style scoped>\n",
       "    .dataframe tbody tr th:only-of-type {\n",
       "        vertical-align: middle;\n",
       "    }\n",
       "\n",
       "    .dataframe tbody tr th {\n",
       "        vertical-align: top;\n",
       "    }\n",
       "\n",
       "    .dataframe thead th {\n",
       "        text-align: right;\n",
       "    }\n",
       "</style>\n",
       "<table border=\"1\" class=\"dataframe\">\n",
       "  <thead>\n",
       "    <tr style=\"text-align: right;\">\n",
       "      <th></th>\n",
       "      <th>CreditScore</th>\n",
       "      <th>Age</th>\n",
       "      <th>Tenure</th>\n",
       "      <th>Balance</th>\n",
       "      <th>EstimatedSalary</th>\n",
       "    </tr>\n",
       "  </thead>\n",
       "  <tbody>\n",
       "    <tr>\n",
       "      <th>count</th>\n",
       "      <td>10000.000000</td>\n",
       "      <td>10000.000000</td>\n",
       "      <td>10000.000000</td>\n",
       "      <td>10000.000000</td>\n",
       "      <td>10000.000000</td>\n",
       "    </tr>\n",
       "    <tr>\n",
       "      <th>mean</th>\n",
       "      <td>650.964800</td>\n",
       "      <td>37.763300</td>\n",
       "      <td>5.012800</td>\n",
       "      <td>76485.889288</td>\n",
       "      <td>100090.239881</td>\n",
       "    </tr>\n",
       "    <tr>\n",
       "      <th>std</th>\n",
       "      <td>96.000151</td>\n",
       "      <td>8.644903</td>\n",
       "      <td>2.892174</td>\n",
       "      <td>62397.405202</td>\n",
       "      <td>57510.492818</td>\n",
       "    </tr>\n",
       "    <tr>\n",
       "      <th>min</th>\n",
       "      <td>383.000000</td>\n",
       "      <td>18.000000</td>\n",
       "      <td>0.000000</td>\n",
       "      <td>0.000000</td>\n",
       "      <td>11.580000</td>\n",
       "    </tr>\n",
       "    <tr>\n",
       "      <th>25%</th>\n",
       "      <td>584.000000</td>\n",
       "      <td>32.000000</td>\n",
       "      <td>3.000000</td>\n",
       "      <td>0.000000</td>\n",
       "      <td>51002.110000</td>\n",
       "    </tr>\n",
       "    <tr>\n",
       "      <th>50%</th>\n",
       "      <td>652.000000</td>\n",
       "      <td>37.000000</td>\n",
       "      <td>5.000000</td>\n",
       "      <td>97198.540000</td>\n",
       "      <td>100193.915000</td>\n",
       "    </tr>\n",
       "    <tr>\n",
       "      <th>75%</th>\n",
       "      <td>718.000000</td>\n",
       "      <td>43.000000</td>\n",
       "      <td>7.000000</td>\n",
       "      <td>127644.240000</td>\n",
       "      <td>149388.247500</td>\n",
       "    </tr>\n",
       "    <tr>\n",
       "      <th>max</th>\n",
       "      <td>850.000000</td>\n",
       "      <td>62.000000</td>\n",
       "      <td>10.000000</td>\n",
       "      <td>250898.090000</td>\n",
       "      <td>199992.480000</td>\n",
       "    </tr>\n",
       "  </tbody>\n",
       "</table>\n",
       "</div>"
      ],
      "text/plain": [
       "        CreditScore           Age        Tenure        Balance  \\\n",
       "count  10000.000000  10000.000000  10000.000000   10000.000000   \n",
       "mean     650.964800     37.763300      5.012800   76485.889288   \n",
       "std       96.000151      8.644903      2.892174   62397.405202   \n",
       "min      383.000000     18.000000      0.000000       0.000000   \n",
       "25%      584.000000     32.000000      3.000000       0.000000   \n",
       "50%      652.000000     37.000000      5.000000   97198.540000   \n",
       "75%      718.000000     43.000000      7.000000  127644.240000   \n",
       "max      850.000000     62.000000     10.000000  250898.090000   \n",
       "\n",
       "       EstimatedSalary  \n",
       "count     10000.000000  \n",
       "mean     100090.239881  \n",
       "std       57510.492818  \n",
       "min          11.580000  \n",
       "25%       51002.110000  \n",
       "50%      100193.915000  \n",
       "75%      149388.247500  \n",
       "max      199992.480000  "
      ]
     },
     "execution_count": 12,
     "metadata": {},
     "output_type": "execute_result"
    }
   ],
   "source": [
    "df1.describe()"
   ]
  },
  {
   "cell_type": "code",
   "execution_count": null,
   "id": "576a650c",
   "metadata": {},
   "outputs": [],
   "source": []
  },
  {
   "cell_type": "code",
   "execution_count": 13,
   "id": "cb754cf9",
   "metadata": {},
   "outputs": [
    {
     "name": "stdout",
     "output_type": "stream",
     "text": [
      "<class 'pandas.core.frame.DataFrame'>\n",
      "Int64Index: 10000 entries, 0 to 9999\n",
      "Data columns (total 14 columns):\n",
      " #   Column           Non-Null Count  Dtype  \n",
      "---  ------           --------------  -----  \n",
      " 0   RowNumber        10000 non-null  object \n",
      " 1   CustomerId       10000 non-null  object \n",
      " 2   Surname          10000 non-null  object \n",
      " 3   CreditScore      10000 non-null  float64\n",
      " 4   Geography        10000 non-null  object \n",
      " 5   Gender           10000 non-null  object \n",
      " 6   Age              10000 non-null  float64\n",
      " 7   Tenure           10000 non-null  int64  \n",
      " 8   Balance          10000 non-null  float64\n",
      " 9   NumOfProducts    10000 non-null  object \n",
      " 10  HasCrCard        10000 non-null  object \n",
      " 11  IsActiveMember   10000 non-null  object \n",
      " 12  EstimatedSalary  10000 non-null  float64\n",
      " 13  Exited           10000 non-null  object \n",
      "dtypes: float64(4), int64(1), object(9)\n",
      "memory usage: 1.1+ MB\n"
     ]
    }
   ],
   "source": [
    "df1.info()"
   ]
  },
  {
   "cell_type": "code",
   "execution_count": 14,
   "id": "927c1aa0",
   "metadata": {},
   "outputs": [
    {
     "data": {
      "text/html": [
       "<div>\n",
       "<style scoped>\n",
       "    .dataframe tbody tr th:only-of-type {\n",
       "        vertical-align: middle;\n",
       "    }\n",
       "\n",
       "    .dataframe tbody tr th {\n",
       "        vertical-align: top;\n",
       "    }\n",
       "\n",
       "    .dataframe thead th {\n",
       "        text-align: right;\n",
       "    }\n",
       "</style>\n",
       "<table border=\"1\" class=\"dataframe\">\n",
       "  <thead>\n",
       "    <tr style=\"text-align: right;\">\n",
       "      <th></th>\n",
       "      <th>RowNumber</th>\n",
       "      <th>CustomerId</th>\n",
       "      <th>CreditScore</th>\n",
       "      <th>Age</th>\n",
       "      <th>Tenure</th>\n",
       "      <th>Balance</th>\n",
       "      <th>NumOfProducts</th>\n",
       "      <th>HasCrCard</th>\n",
       "      <th>IsActiveMember</th>\n",
       "      <th>EstimatedSalary</th>\n",
       "      <th>Exited</th>\n",
       "    </tr>\n",
       "  </thead>\n",
       "  <tbody>\n",
       "    <tr>\n",
       "      <th>count</th>\n",
       "      <td>10000.00000</td>\n",
       "      <td>1.000000e+04</td>\n",
       "      <td>10000.000000</td>\n",
       "      <td>10000.000000</td>\n",
       "      <td>10000.000000</td>\n",
       "      <td>10000.000000</td>\n",
       "      <td>10000.000000</td>\n",
       "      <td>10000.00000</td>\n",
       "      <td>10000.000000</td>\n",
       "      <td>10000.000000</td>\n",
       "      <td>10000.000000</td>\n",
       "    </tr>\n",
       "    <tr>\n",
       "      <th>mean</th>\n",
       "      <td>5000.50000</td>\n",
       "      <td>1.569094e+07</td>\n",
       "      <td>650.528800</td>\n",
       "      <td>38.921800</td>\n",
       "      <td>5.012800</td>\n",
       "      <td>76485.889288</td>\n",
       "      <td>1.530200</td>\n",
       "      <td>0.70550</td>\n",
       "      <td>0.515100</td>\n",
       "      <td>100090.239881</td>\n",
       "      <td>0.203700</td>\n",
       "    </tr>\n",
       "    <tr>\n",
       "      <th>std</th>\n",
       "      <td>2886.89568</td>\n",
       "      <td>7.193619e+04</td>\n",
       "      <td>96.653299</td>\n",
       "      <td>10.487806</td>\n",
       "      <td>2.892174</td>\n",
       "      <td>62397.405202</td>\n",
       "      <td>0.581654</td>\n",
       "      <td>0.45584</td>\n",
       "      <td>0.499797</td>\n",
       "      <td>57510.492818</td>\n",
       "      <td>0.402769</td>\n",
       "    </tr>\n",
       "    <tr>\n",
       "      <th>min</th>\n",
       "      <td>1.00000</td>\n",
       "      <td>1.556570e+07</td>\n",
       "      <td>350.000000</td>\n",
       "      <td>18.000000</td>\n",
       "      <td>0.000000</td>\n",
       "      <td>0.000000</td>\n",
       "      <td>1.000000</td>\n",
       "      <td>0.00000</td>\n",
       "      <td>0.000000</td>\n",
       "      <td>11.580000</td>\n",
       "      <td>0.000000</td>\n",
       "    </tr>\n",
       "    <tr>\n",
       "      <th>25%</th>\n",
       "      <td>2500.75000</td>\n",
       "      <td>1.562853e+07</td>\n",
       "      <td>584.000000</td>\n",
       "      <td>32.000000</td>\n",
       "      <td>3.000000</td>\n",
       "      <td>0.000000</td>\n",
       "      <td>1.000000</td>\n",
       "      <td>0.00000</td>\n",
       "      <td>0.000000</td>\n",
       "      <td>51002.110000</td>\n",
       "      <td>0.000000</td>\n",
       "    </tr>\n",
       "    <tr>\n",
       "      <th>50%</th>\n",
       "      <td>5000.50000</td>\n",
       "      <td>1.569074e+07</td>\n",
       "      <td>652.000000</td>\n",
       "      <td>37.000000</td>\n",
       "      <td>5.000000</td>\n",
       "      <td>97198.540000</td>\n",
       "      <td>1.000000</td>\n",
       "      <td>1.00000</td>\n",
       "      <td>1.000000</td>\n",
       "      <td>100193.915000</td>\n",
       "      <td>0.000000</td>\n",
       "    </tr>\n",
       "    <tr>\n",
       "      <th>75%</th>\n",
       "      <td>7500.25000</td>\n",
       "      <td>1.575323e+07</td>\n",
       "      <td>718.000000</td>\n",
       "      <td>44.000000</td>\n",
       "      <td>7.000000</td>\n",
       "      <td>127644.240000</td>\n",
       "      <td>2.000000</td>\n",
       "      <td>1.00000</td>\n",
       "      <td>1.000000</td>\n",
       "      <td>149388.247500</td>\n",
       "      <td>0.000000</td>\n",
       "    </tr>\n",
       "    <tr>\n",
       "      <th>max</th>\n",
       "      <td>10000.00000</td>\n",
       "      <td>1.581569e+07</td>\n",
       "      <td>850.000000</td>\n",
       "      <td>92.000000</td>\n",
       "      <td>10.000000</td>\n",
       "      <td>250898.090000</td>\n",
       "      <td>4.000000</td>\n",
       "      <td>1.00000</td>\n",
       "      <td>1.000000</td>\n",
       "      <td>199992.480000</td>\n",
       "      <td>1.000000</td>\n",
       "    </tr>\n",
       "  </tbody>\n",
       "</table>\n",
       "</div>"
      ],
      "text/plain": [
       "         RowNumber    CustomerId   CreditScore           Age        Tenure  \\\n",
       "count  10000.00000  1.000000e+04  10000.000000  10000.000000  10000.000000   \n",
       "mean    5000.50000  1.569094e+07    650.528800     38.921800      5.012800   \n",
       "std     2886.89568  7.193619e+04     96.653299     10.487806      2.892174   \n",
       "min        1.00000  1.556570e+07    350.000000     18.000000      0.000000   \n",
       "25%     2500.75000  1.562853e+07    584.000000     32.000000      3.000000   \n",
       "50%     5000.50000  1.569074e+07    652.000000     37.000000      5.000000   \n",
       "75%     7500.25000  1.575323e+07    718.000000     44.000000      7.000000   \n",
       "max    10000.00000  1.581569e+07    850.000000     92.000000     10.000000   \n",
       "\n",
       "             Balance  NumOfProducts    HasCrCard  IsActiveMember  \\\n",
       "count   10000.000000   10000.000000  10000.00000    10000.000000   \n",
       "mean    76485.889288       1.530200      0.70550        0.515100   \n",
       "std     62397.405202       0.581654      0.45584        0.499797   \n",
       "min         0.000000       1.000000      0.00000        0.000000   \n",
       "25%         0.000000       1.000000      0.00000        0.000000   \n",
       "50%     97198.540000       1.000000      1.00000        1.000000   \n",
       "75%    127644.240000       2.000000      1.00000        1.000000   \n",
       "max    250898.090000       4.000000      1.00000        1.000000   \n",
       "\n",
       "       EstimatedSalary        Exited  \n",
       "count     10000.000000  10000.000000  \n",
       "mean     100090.239881      0.203700  \n",
       "std       57510.492818      0.402769  \n",
       "min          11.580000      0.000000  \n",
       "25%       51002.110000      0.000000  \n",
       "50%      100193.915000      0.000000  \n",
       "75%      149388.247500      0.000000  \n",
       "max      199992.480000      1.000000  "
      ]
     },
     "execution_count": 14,
     "metadata": {},
     "output_type": "execute_result"
    }
   ],
   "source": [
    "data.describe()"
   ]
  },
  {
   "cell_type": "code",
   "execution_count": 15,
   "id": "344e5c20",
   "metadata": {},
   "outputs": [
    {
     "data": {
      "text/plain": [
       "<AxesSubplot:>"
      ]
     },
     "execution_count": 15,
     "metadata": {},
     "output_type": "execute_result"
    },
    {
     "data": {
      "image/png": "[encoded data removed]",
      "text/plain": [
       "<Figure size 640x480 with 1 Axes>"
      ]
     },
     "metadata": {},
     "output_type": "display_data"
    }
   ],
   "source": [
    "df1['EstimatedSalary'].plot(kind='box')"
   ]
  },
  {
   "cell_type": "code",
   "execution_count": 16,
   "id": "0551c60f",
   "metadata": {},
   "outputs": [
    {
     "data": {
      "text/plain": [
       "<AxesSubplot:xlabel='Exited', ylabel='EstimatedSalary'>"
      ]
     },
     "execution_count": 16,
     "metadata": {},
     "output_type": "execute_result"
    },
    {
     "data": {
      "image/png": "[encoded data removed]",
      "text/plain": [
       "<Figure size 640x480 with 1 Axes>"
      ]
     },
     "metadata": {},
     "output_type": "display_data"
    }
   ],
   "source": [
    "sns.boxplot(x='Exited',y='EstimatedSalary',hue='Exited',data=df1)"
   ]
  },
  {
   "cell_type": "markdown",
   "id": "20fe6498",
   "metadata": {},
   "source": [
    "People earning a higher salary are more likely to leave the bank"
   ]
  },
  {
   "cell_type": "code",
   "execution_count": 17,
   "id": "c4bb6ac3",
   "metadata": {},
   "outputs": [
    {
     "data": {
      "text/plain": [
       "<AxesSubplot:xlabel='Exited', ylabel='count'>"
      ]
     },
     "execution_count": 17,
     "metadata": {},
     "output_type": "execute_result"
    },
    {
     "data": {
      "image/png": "[encoded data removed]",
      "text/plain": [
       "<Figure size 640x480 with 1 Axes>"
      ]
     },
     "metadata": {},
     "output_type": "display_data"
    }
   ],
   "source": [
    "sns.countplot(x='Exited',data=df1)"
   ]
  },
  {
   "cell_type": "markdown",
   "id": "df5911d6",
   "metadata": {},
   "source": [
    "The majority of the customers did not leave the bank."
   ]
  },
  {
   "cell_type": "code",
   "execution_count": 18,
   "id": "9a067831",
   "metadata": {},
   "outputs": [
    {
     "data": {
      "text/plain": [
       "<AxesSubplot:xlabel='Age', ylabel='Tenure'>"
      ]
     },
     "execution_count": 18,
     "metadata": {},
     "output_type": "execute_result"
    },
    {
     "data": {
      "image/png": "[encoded data removed]",
      "text/plain": [
       "<Figure size 640x480 with 1 Axes>"
      ]
     },
     "metadata": {},
     "output_type": "display_data"
    }
   ],
   "source": [
    "sns.scatterplot(x='Age',y='Tenure',data=df1)"
   ]
  },
  {
   "cell_type": "code",
   "execution_count": 19,
   "id": "e0803f33",
   "metadata": {},
   "outputs": [
    {
     "data": {
      "text/plain": [
       "<AxesSubplot:>"
      ]
     },
     "execution_count": 19,
     "metadata": {},
     "output_type": "execute_result"
    },
    {
     "data": {
      "image/png": "[encoded data removed]",
      "text/plain": [
       "<Figure size 640x480 with 2 Axes>"
      ]
     },
     "metadata": {},
     "output_type": "display_data"
    }
   ],
   "source": [
    "sns.heatmap(df1.corr(),data=df1,annot=True)"
   ]
  },
  {
   "cell_type": "markdown",
   "id": "41a32c33",
   "metadata": {},
   "source": [
    "There is very little to no correlation between the continous variables"
   ]
  },
  {
   "cell_type": "code",
   "execution_count": 20,
   "id": "449b796b",
   "metadata": {},
   "outputs": [
    {
     "data": {
      "text/plain": [
       "<AxesSubplot:xlabel='Exited', ylabel='CreditScore'>"
      ]
     },
     "execution_count": 20,
     "metadata": {},
     "output_type": "execute_result"
    },
    {
     "data": {
      "image/png": "[encoded data removed]",
      "text/plain": [
       "<Figure size 640x480 with 1 Axes>"
      ]
     },
     "metadata": {},
     "output_type": "display_data"
    }
   ],
   "source": [
    "sns.boxplot(x='Exited',y='CreditScore',hue='Exited',data=df1)"
   ]
  },
  {
   "cell_type": "code",
   "execution_count": 21,
   "id": "73b407bf",
   "metadata": {
    "scrolled": true
   },
   "outputs": [
    {
     "data": {
      "text/plain": [
       "<AxesSubplot:xlabel='CreditScore', ylabel='Count'>"
      ]
     },
     "execution_count": 21,
     "metadata": {},
     "output_type": "execute_result"
    },
    {
     "data": {
      "image/png": "[encoded data removed]",
      "text/plain": [
       "<Figure size 640x480 with 1 Axes>"
      ]
     },
     "metadata": {},
     "output_type": "display_data"
    }
   ],
   "source": [
    "sns.histplot(x='CreditScore',data=df1,kde=True)"
   ]
  },
  {
   "cell_type": "code",
   "execution_count": 22,
   "id": "d8911490",
   "metadata": {},
   "outputs": [
    {
     "data": {
      "text/plain": [
       "<AxesSubplot:xlabel='Age', ylabel='Count'>"
      ]
     },
     "execution_count": 22,
     "metadata": {},
     "output_type": "execute_result"
    },
    {
     "data": {
      "image/png": "[encoded data removed]",
      "text/plain": [
       "<Figure size 640x480 with 1 Axes>"
      ]
     },
     "metadata": {},
     "output_type": "display_data"
    }
   ],
   "source": [
    "sns.histplot(x='Age',data=df1,kde=True)"
   ]
  },
  {
   "cell_type": "code",
   "execution_count": 23,
   "id": "25368145",
   "metadata": {},
   "outputs": [
    {
     "data": {
      "text/plain": [
       "<AxesSubplot:xlabel='Balance', ylabel='Count'>"
      ]
     },
     "execution_count": 23,
     "metadata": {},
     "output_type": "execute_result"
    },
    {
     "data": {
      "image/png": "[encoded data removed]",
      "text/plain": [
       "<Figure size 640x480 with 1 Axes>"
      ]
     },
     "metadata": {},
     "output_type": "display_data"
    }
   ],
   "source": [
    "sns.histplot(x='Balance',data=df1,kde=True)"
   ]
  },
  {
   "cell_type": "code",
   "execution_count": 24,
   "id": "a3d5cb25",
   "metadata": {},
   "outputs": [
    {
     "data": {
      "text/plain": [
       "<AxesSubplot:xlabel='EstimatedSalary', ylabel='Count'>"
      ]
     },
     "execution_count": 24,
     "metadata": {},
     "output_type": "execute_result"
    },
    {
     "data": {
      "image/png": "[encoded data removed]",
      "text/plain": [
       "<Figure size 640x480 with 1 Axes>"
      ]
     },
     "metadata": {},
     "output_type": "display_data"
    }
   ],
   "source": [
    "sns.histplot(x='EstimatedSalary',data=df1,kde=True)"
   ]
  },
  {
   "cell_type": "code",
   "execution_count": null,
   "id": "f5bfa4df",
   "metadata": {},
   "outputs": [
    {
     "data": {
      "text/plain": [
       "<AxesSubplot:xlabel='Tenure', ylabel='Count'>"
      ]
     },
     "execution_count": 25,
     "metadata": {},
     "output_type": "execute_result"
    }
   ],
   "source": [
    "sns.histplot(x='Tenure',data=df1,kde=True)"
   ]
  },
  {
   "cell_type": "code",
   "execution_count": null,
   "id": "d3219dc4",
   "metadata": {},
   "outputs": [],
   "source": [
    "sns.boxplot(x='Exited',y='Balance',hue='Exited',data=df1)"
   ]
  },
  {
   "cell_type": "code",
   "execution_count": null,
   "id": "8a24cb83",
   "metadata": {},
   "outputs": [],
   "source": [
    "sns.boxplot(x='Exited',y='Tenure',hue='Exited',data=df1)"
   ]
  },
  {
   "cell_type": "code",
   "execution_count": null,
   "id": "9fba4f71",
   "metadata": {},
   "outputs": [],
   "source": [
    "sns.countplot(x='HasCrCard',data=df1,hue='Exited')"
   ]
  },
  {
   "cell_type": "markdown",
   "id": "bf5bacf4",
   "metadata": {},
   "source": [
    "The plot above shows that customers that are credit card holders are likely to leave the bank"
   ]
  },
  {
   "cell_type": "code",
   "execution_count": null,
   "id": "bd917400",
   "metadata": {},
   "outputs": [],
   "source": [
    "sns.countplot(x='Exited',data=df1,hue='NumOfProducts')"
   ]
  },
  {
   "cell_type": "code",
   "execution_count": null,
   "id": "a9aad015",
   "metadata": {},
   "outputs": [],
   "source": [
    "sns.countplot(x='Exited',data=df1,hue='IsActiveMember')"
   ]
  },
  {
   "cell_type": "markdown",
   "id": "e29fed9a",
   "metadata": {},
   "source": [
    "The number of non-active members who left the bank is greater than those who were active members."
   ]
  },
  {
   "cell_type": "code",
   "execution_count": null,
   "id": "54553e57",
   "metadata": {},
   "outputs": [],
   "source": [
    "sns.countplot(x='Exited',data=df1,hue='Geography')"
   ]
  },
  {
   "cell_type": "code",
   "execution_count": null,
   "id": "267eef3c",
   "metadata": {},
   "outputs": [],
   "source": [
    "from sklearn.model_selection import train_test_split\n",
    "from sklearn.preprocessing import MinMaxScaler\n",
    "from sklearn.linear_model import LogisticRegression\n",
    "from sklearn.tree import DecisionTreeClassifier\n",
    "from sklearn.neighbors import KNeighborsClassifier\n",
    "from sklearn.svm import SVC\n",
    "from sklearn.ensemble import RandomForestClassifier\n",
    "from xgboost import XGBClassifier"
   ]
  },
  {
   "cell_type": "code",
   "execution_count": null,
   "id": "e000d2f0",
   "metadata": {},
   "outputs": [],
   "source": [
    "categorical_features=[x for x in df.columns if df[x].dtype ==\"object\"]\n",
    "from sklearn.preprocessing import LabelEncoder\n",
    "le=LabelEncoder()\n",
    "for i in df[categorical_features].columns:\n",
    "    df1[i] = le.fit_transform(df[i])"
   ]
  },
  {
   "cell_type": "code",
   "execution_count": null,
   "id": "a0db019f",
   "metadata": {},
   "outputs": [],
   "source": [
    "X = df1[['HasCrCard','CreditScore','IsActiveMember','NumOfProducts','Age','Tenure','Balance','EstimatedSalary']]\n",
    "y = df1['Exited'].astype('int64')"
   ]
  },
  {
   "cell_type": "code",
   "execution_count": null,
   "id": "8186bd45",
   "metadata": {},
   "outputs": [],
   "source": []
  },
  {
   "cell_type": "code",
   "execution_count": null,
   "id": "003b2072",
   "metadata": {},
   "outputs": [],
   "source": [
    "categorical_features"
   ]
  },
  {
   "cell_type": "code",
   "execution_count": null,
   "id": "6b0611f3",
   "metadata": {},
   "outputs": [],
   "source": [
    "from imblearn.over_sampling import SMOTE\n",
    "\n",
    "# Resample the minority class. You can change the strategy to 'auto' if you are not sure.\n",
    "sm = SMOTE(sampling_strategy='minority')\n",
    "\n",
    "# Fit the model to generate the data.\n",
    "X_smote, y_smote = sm.fit_resample(X, y)"
   ]
  },
  {
   "cell_type": "code",
   "execution_count": null,
   "id": "95593b9e",
   "metadata": {},
   "outputs": [],
   "source": [
    "SD = MinMaxScaler()"
   ]
  },
  {
   "cell_type": "code",
   "execution_count": null,
   "id": "29608e36",
   "metadata": {},
   "outputs": [],
   "source": [
    "X = SD.fit_transform(X)"
   ]
  },
  {
   "cell_type": "code",
   "execution_count": null,
   "id": "d5f9d7c3",
   "metadata": {},
   "outputs": [],
   "source": [
    "log = LogisticRegression(solver='liblinear',C=0.1)\n",
    "Decision = DecisionTreeClassifier()\n",
    "knn = KNeighborsClassifier(n_neighbors=7)\n",
    "svc = SVC()\n",
    "forest = RandomForestClassifier(criterion='entropy', max_depth=18, max_features=5,min_samples_split=100, n_estimators=1000)\n",
    "xboost = XGBClassifier(n_estimators=10)"
   ]
  },
  {
   "cell_type": "code",
   "execution_count": null,
   "id": "8e393d78",
   "metadata": {},
   "outputs": [],
   "source": [
    "model = {'Logistic Regression model':log,'Decision Tree model':Decision,'KN Neighbors model':knn,\n",
    "          'Support Vector Machine model':svc,'Random Forest model':forest,'XGBoost':xboost}"
   ]
  },
  {
   "cell_type": "code",
   "execution_count": null,
   "id": "f5caa6ab",
   "metadata": {},
   "outputs": [],
   "source": [
    "X_train, X_test, y_train, y_test = train_test_split(X_smote, y_smote, test_size=0.20, random_state=101)"
   ]
  },
  {
   "cell_type": "code",
   "execution_count": null,
   "id": "bb903d43",
   "metadata": {},
   "outputs": [],
   "source": []
  },
  {
   "cell_type": "code",
   "execution_count": null,
   "id": "be98019d",
   "metadata": {},
   "outputs": [],
   "source": []
  },
  {
   "cell_type": "code",
   "execution_count": null,
   "id": "05cb577c",
   "metadata": {},
   "outputs": [],
   "source": [
    "from sklearn.metrics import classification_report\n",
    "from sklearn.metrics import accuracy_score"
   ]
  },
  {
   "cell_type": "code",
   "execution_count": 43,
   "id": "ce6aea57",
   "metadata": {},
   "outputs": [
    {
     "name": "stdout",
     "output_type": "stream",
     "text": [
      "The accuracy of model Support Vector Machine model is 0.58\n",
      "              precision    recall  f1-score   support\n",
      "\n",
      "           0       0.62      0.39      0.48      1585\n",
      "           1       0.56      0.77      0.65      1601\n",
      "\n",
      "    accuracy                           0.58      3186\n",
      "   macro avg       0.59      0.58      0.56      3186\n",
      "weighted avg       0.59      0.58      0.56      3186\n",
      "\n",
      "\n",
      "\n",
      "The accuracy of model Random Forest model is 0.84\n",
      "              precision    recall  f1-score   support\n",
      "\n",
      "           0       0.83      0.87      0.85      1585\n",
      "           1       0.86      0.82      0.84      1601\n",
      "\n",
      "    accuracy                           0.84      3186\n",
      "   macro avg       0.84      0.84      0.84      3186\n",
      "weighted avg       0.84      0.84      0.84      3186\n",
      "\n",
      "\n",
      "\n",
      "The accuracy of model XGBoost is 0.83\n",
      "              precision    recall  f1-score   support\n",
      "\n",
      "           0       0.82      0.84      0.83      1585\n",
      "           1       0.84      0.82      0.83      1601\n",
      "\n",
      "    accuracy                           0.83      3186\n",
      "   macro avg       0.83      0.83      0.83      3186\n",
      "weighted avg       0.83      0.83      0.83      3186\n",
      "\n",
      "\n",
      "\n"
     ]
    }
   ],
   "source": [
    "\n",
    "for i in model:\n",
    "    model[i].fit(X_train,y_train)\n",
    "    predict = model[i].predict(X_test)\n",
    "    accuracy= accuracy_score(y_test, predict)\n",
    "    clf_report= classification_report(y_test, predict) # with the report, we have a bigger picture, with precision and recall for each class\n",
    "    print(f\"The accuracy of model {i} is {accuracy:.2f}\")\n",
    "    print(clf_report)\n",
    "    print(\"\\n\")\n",
    "    "
   ]
  },
  {
   "cell_type": "code",
   "execution_count": 44,
   "id": "5bebeabe",
   "metadata": {},
   "outputs": [
    {
     "data": {
      "text/html": [
       "<div>\n",
       "<style scoped>\n",
       "    .dataframe tbody tr th:only-of-type {\n",
       "        vertical-align: middle;\n",
       "    }\n",
       "\n",
       "    .dataframe tbody tr th {\n",
       "        vertical-align: top;\n",
       "    }\n",
       "\n",
       "    .dataframe thead th {\n",
       "        text-align: right;\n",
       "    }\n",
       "</style>\n",
       "<table border=\"1\" class=\"dataframe\">\n",
       "  <thead>\n",
       "    <tr style=\"text-align: right;\">\n",
       "      <th></th>\n",
       "      <th>HasCrCard</th>\n",
       "      <th>CreditScore</th>\n",
       "      <th>IsActiveMember</th>\n",
       "      <th>NumOfProducts</th>\n",
       "      <th>Age</th>\n",
       "      <th>Tenure</th>\n",
       "      <th>Balance</th>\n",
       "      <th>EstimatedSalary</th>\n",
       "    </tr>\n",
       "  </thead>\n",
       "  <tbody>\n",
       "    <tr>\n",
       "      <th>0</th>\n",
       "      <td>1</td>\n",
       "      <td>619.0</td>\n",
       "      <td>1</td>\n",
       "      <td>0</td>\n",
       "      <td>42.0</td>\n",
       "      <td>2</td>\n",
       "      <td>0.00</td>\n",
       "      <td>101348.88</td>\n",
       "    </tr>\n",
       "    <tr>\n",
       "      <th>1</th>\n",
       "      <td>0</td>\n",
       "      <td>608.0</td>\n",
       "      <td>1</td>\n",
       "      <td>0</td>\n",
       "      <td>41.0</td>\n",
       "      <td>1</td>\n",
       "      <td>83807.86</td>\n",
       "      <td>112542.58</td>\n",
       "    </tr>\n",
       "    <tr>\n",
       "      <th>2</th>\n",
       "      <td>1</td>\n",
       "      <td>502.0</td>\n",
       "      <td>0</td>\n",
       "      <td>2</td>\n",
       "      <td>42.0</td>\n",
       "      <td>8</td>\n",
       "      <td>159660.80</td>\n",
       "      <td>113931.57</td>\n",
       "    </tr>\n",
       "    <tr>\n",
       "      <th>3</th>\n",
       "      <td>0</td>\n",
       "      <td>699.0</td>\n",
       "      <td>0</td>\n",
       "      <td>1</td>\n",
       "      <td>39.0</td>\n",
       "      <td>1</td>\n",
       "      <td>0.00</td>\n",
       "      <td>93826.63</td>\n",
       "    </tr>\n",
       "    <tr>\n",
       "      <th>4</th>\n",
       "      <td>1</td>\n",
       "      <td>850.0</td>\n",
       "      <td>1</td>\n",
       "      <td>0</td>\n",
       "      <td>43.0</td>\n",
       "      <td>2</td>\n",
       "      <td>125510.82</td>\n",
       "      <td>79084.10</td>\n",
       "    </tr>\n",
       "  </tbody>\n",
       "</table>\n",
       "</div>"
      ],
      "text/plain": [
       "   HasCrCard  CreditScore  IsActiveMember  NumOfProducts   Age  Tenure  \\\n",
       "0          1        619.0               1              0  42.0       2   \n",
       "1          0        608.0               1              0  41.0       1   \n",
       "2          1        502.0               0              2  42.0       8   \n",
       "3          0        699.0               0              1  39.0       1   \n",
       "4          1        850.0               1              0  43.0       2   \n",
       "\n",
       "     Balance  EstimatedSalary  \n",
       "0       0.00        101348.88  \n",
       "1   83807.86        112542.58  \n",
       "2  159660.80        113931.57  \n",
       "3       0.00         93826.63  \n",
       "4  125510.82         79084.10  "
      ]
     },
     "execution_count": 44,
     "metadata": {},
     "output_type": "execute_result"
    }
   ],
   "source": [
    "X_smote.head()"
   ]
  },
  {
   "cell_type": "code",
   "execution_count": null,
   "id": "73cb0109",
   "metadata": {},
   "outputs": [],
   "source": []
  },
  {
   "cell_type": "code",
   "execution_count": 45,
   "id": "739b91dc",
   "metadata": {},
   "outputs": [],
   "source": [
    "#from tensorflow.keras.models import Sequential\n",
    "#from tensorflow.keras.layers import Dense"
   ]
  },
  {
   "cell_type": "code",
   "execution_count": 46,
   "id": "5c08688f",
   "metadata": {},
   "outputs": [],
   "source": [
    "#nn_model = Sequential()\n",
    "#nn_model.add(Dense(50,activation='relu'))\n",
    "#nn_model.add(Dense(35,activation='relu'))\n",
    "#nn_model.add(Dense(20,activation='relu'))\n",
    "#nn_model.add(Dense(15,activation='sigmoid'))\n",
    "\n",
    "#nn_model.add(Dense(1))"
   ]
  },
  {
   "cell_type": "code",
   "execution_count": 47,
   "id": "caa4be01",
   "metadata": {},
   "outputs": [],
   "source": [
    "#nn_model.compile(optimizer='adam',loss='binary_crossentropy',metrics=['accuracy'])"
   ]
  },
  {
   "cell_type": "code",
   "execution_count": 48,
   "id": "50b2e280",
   "metadata": {},
   "outputs": [],
   "source": [
    "#nn_model.fit(X_train,y_train,validation_data=(X_test,y_test),epochs=200)"
   ]
  },
  {
   "cell_type": "code",
   "execution_count": 49,
   "id": "48638b06",
   "metadata": {},
   "outputs": [],
   "source": [
    "#losses = pd.DataFrame(nn_model.history.history)\n",
    "#losses"
   ]
  },
  {
   "cell_type": "code",
   "execution_count": 50,
   "id": "25626a24",
   "metadata": {},
   "outputs": [],
   "source": [
    "#losses.plot()"
   ]
  },
  {
   "cell_type": "code",
   "execution_count": 51,
   "id": "62894fbb",
   "metadata": {},
   "outputs": [],
   "source": [
    "#predictions = nn_model.predict(X_test)"
   ]
  },
  {
   "cell_type": "code",
   "execution_count": 52,
   "id": "091a8801",
   "metadata": {},
   "outputs": [],
   "source": [
    "#train_loss, train_acc = nn_model.evaluate(X_train, y_train, verbose=0)\n",
    "#train_acc"
   ]
  },
  {
   "cell_type": "code",
   "execution_count": 53,
   "id": "0bf6dfc7",
   "metadata": {},
   "outputs": [],
   "source": [
    "#test_loss , test_acc = nn_model.evaluate(X_test, y_test, verbose=0)\n",
    "#test_acc"
   ]
  },
  {
   "cell_type": "code",
   "execution_count": 54,
   "id": "b5b664d9",
   "metadata": {},
   "outputs": [],
   "source": [
    "#nn_model.save('bank_churner_neural_network_model')"
   ]
  },
  {
   "cell_type": "code",
   "execution_count": 55,
   "id": "5c6c675e",
   "metadata": {},
   "outputs": [
    {
     "data": {
      "text/plain": [
       "'\\nerror_rate = []\\nfor i in range(1,60):\\n    KNN = KNeighborsClassifier(n_neighbors=i)\\n    KNN.fit(X_train,y_train)\\n    pred_i = KNN.predict(X_test)\\n    error_rate.append(np.mean(pred_i != y_test))\\n    '"
      ]
     },
     "execution_count": 55,
     "metadata": {},
     "output_type": "execute_result"
    }
   ],
   "source": [
    "'''\n",
    "error_rate = []\n",
    "for i in range(1,60):\n",
    "    KNN = KNeighborsClassifier(n_neighbors=i)\n",
    "    KNN.fit(X_train,y_train)\n",
    "    pred_i = KNN.predict(X_test)\n",
    "    error_rate.append(np.mean(pred_i != y_test))\n",
    "    '''"
   ]
  },
  {
   "cell_type": "code",
   "execution_count": 56,
   "id": "bb90bc55",
   "metadata": {},
   "outputs": [
    {
     "data": {
      "text/plain": [
       "\"\\nplt.figure(figsize=(10,6))\\nplt.plot(range(1,60),error_rate,color='blue',ls = '--',marker='o',\\n        markerfacecolor='red',markersize=10)\\nplt.title('error_rate vs K values')\\nplt.xlabel('K')\\nplt.ylabel('error_rate')\\n\""
      ]
     },
     "execution_count": 56,
     "metadata": {},
     "output_type": "execute_result"
    }
   ],
   "source": [
    "'''\n",
    "plt.figure(figsize=(10,6))\n",
    "plt.plot(range(1,60),error_rate,color='blue',ls = '--',marker='o',\n",
    "        markerfacecolor='red',markersize=10)\n",
    "plt.title('error_rate vs K values')\n",
    "plt.xlabel('K')\n",
    "plt.ylabel('error_rate')\n",
    "'''"
   ]
  },
  {
   "cell_type": "code",
   "execution_count": 57,
   "id": "f4c496d4",
   "metadata": {},
   "outputs": [],
   "source": [
    "from sklearn.model_selection import GridSearchCV\n"
   ]
  },
  {
   "cell_type": "code",
   "execution_count": 58,
   "id": "8fd06991",
   "metadata": {},
   "outputs": [
    {
     "ename": "SyntaxError",
     "evalue": "EOF while scanning triple-quoted string literal (1042874335.py, line 6)",
     "output_type": "error",
     "traceback": [
      "\u001b[1;36m  File \u001b[1;32m\"C:\\Users\\user\\AppData\\Local\\Temp\\ipykernel_7704\\1042874335.py\"\u001b[1;36m, line \u001b[1;32m6\u001b[0m\n\u001b[1;33m    grid.fit(X_train,y_train)\u001b[0m\n\u001b[1;37m                             \n^\u001b[0m\n\u001b[1;31mSyntaxError\u001b[0m\u001b[1;31m:\u001b[0m EOF while scanning triple-quoted string literal\n"
     ]
    }
   ],
   "source": [
    "''''\n",
    "#from sklearn.model_selection import GridSearchCV\n",
    "\n",
    "param_grid = {'C':[0.1,1,10,100,1000],'gamma':[1,0.1,0.01,0.001,0.0001]}\n",
    "grid = GridSearchCV(SVC(),param_grid,verbose=3)\n",
    "grid.fit(X_train,y_train)"
   ]
  },
  {
   "cell_type": "code",
   "execution_count": null,
   "id": "6d6b5cba",
   "metadata": {},
   "outputs": [],
   "source": [
    "#grid.best_estimator_"
   ]
  },
  {
   "cell_type": "code",
   "execution_count": null,
   "id": "10d516d2",
   "metadata": {},
   "outputs": [],
   "source": [
    "#print(classification_report(y_test,grid.predict(X_test)))"
   ]
  },
  {
   "cell_type": "code",
   "execution_count": null,
   "id": "c1059ba1",
   "metadata": {},
   "outputs": [],
   "source": [
    "from sklearn.model_selection import RandomizedSearchCV"
   ]
  },
  {
   "cell_type": "code",
   "execution_count": null,
   "id": "ba84539e",
   "metadata": {},
   "outputs": [],
   "source": [
    "'''\n",
    "forest_params = [{'n_estimators' : [int(x) for x in np.linspace(start=100, stop=1000, num=10)],'max_depth': list(range(10, 50)), 'max_features': list(range(0,14)),\n",
    "\"min_samples_split\": [5,10,15,100],\n",
    "           \"min_samples_leaf\": [1,2,5,10],\n",
    "           \"criterion\":['gini', 'entropy'] }]\n",
    "cv_rf = StratifiedKFold(n_splits=5)\n",
    "\n",
    "clf = RandomizedSearchCV(RandomForestClassifier(), forest_params, cv = cv_rf, scoring='f1_macro')\n",
    "\n",
    "clf.fit(X_train, y_train)\n",
    "'''"
   ]
  },
  {
   "cell_type": "code",
   "execution_count": null,
   "id": "4327863a",
   "metadata": {},
   "outputs": [],
   "source": [
    "#clf.best_estimator_"
   ]
  },
  {
   "cell_type": "code",
   "execution_count": null,
   "id": "dec18eac",
   "metadata": {},
   "outputs": [],
   "source": [
    "#print(clf.best_score_)"
   ]
  },
  {
   "cell_type": "code",
   "execution_count": null,
   "id": "007035fc",
   "metadata": {
    "scrolled": false
   },
   "outputs": [],
   "source": [
    "'''\n",
    "log_params = [{'solver':['liblinear', 'newton-cg', 'sag', 'saga','lbfgs']}, {'C':[0.001, 0.01, 0.1, 1, 10, 100]},{'penalty' : ['l1', 'l2']}]\n",
    "cv_log= StratifiedKFold(n_splits=5)\n",
    "lg = GridSearchCV(LogisticRegression(), log_params, cv = cv_log, scoring='precision')\n",
    "\n",
    "lg.fit(X_train, y_train)\n",
    "'''"
   ]
  },
  {
   "cell_type": "code",
   "execution_count": null,
   "id": "bc476559",
   "metadata": {},
   "outputs": [],
   "source": [
    "lg.best_estimator_"
   ]
  },
  {
   "cell_type": "code",
   "execution_count": null,
   "id": "076116ee",
   "metadata": {},
   "outputs": [],
   "source": []
  },
  {
   "cell_type": "code",
   "execution_count": null,
   "id": "d23d86ac",
   "metadata": {},
   "outputs": [],
   "source": [
    "'''\n",
    "from sklearn.model_selection import GridSearchCV\n",
    "\n",
    "param_grid = {'n_estimators':[1,10,100,150,200,250,300,350,400,450,500]}\n",
    "grid = GridSearchCV(XGBClassifier(),param_grid,verbose=3)\n",
    "grid.fit(X_train,y_train)\n",
    "'''"
   ]
  },
  {
   "cell_type": "code",
   "execution_count": null,
   "id": "61c5b522",
   "metadata": {},
   "outputs": [],
   "source": [
    "#grid.best_estimator_"
   ]
  },
  {
   "cell_type": "code",
   "execution_count": null,
   "id": "832e9c42",
   "metadata": {},
   "outputs": [],
   "source": [
    "''' \n",
    "param_grid = {'n_neighbors':[1,  2,  3,  4,  5,  6,  7,  8,  9, 10, 11, 12, 13, 14, 15, 16, 17,\n",
    "       18, 19, 20, 21, 22, 23, 24, 25, 26, 27, 28, 29, 30, 31, 32, 33, 34,\n",
    "       35, 36, 37, 38, 39, 40, 41, 42, 43, 44, 45, 46, 47, 48, 49, 50, 51,\n",
    "       52, 53, 54, 55, 56, 57, 58, 59, 60, 61, 62, 63, 64, 65, 66, 67, 68,\n",
    "       69, 70, 71, 72, 73, 74, 75, 76, 77, 78, 79, 80, 81, 82, 83, 84, 85,\n",
    "       86, 87, 88, 89, 90, 91, 92, 93, 94, 95, 96, 97, 98, 99,100]}\n",
    "grid2 = GridSearchCV(KNeighborsClassifier(),param_grid,verbose=3)\n",
    "grid2.fit(X_train,y_train)\n",
    "'''"
   ]
  },
  {
   "cell_type": "code",
   "execution_count": null,
   "id": "40d54668",
   "metadata": {},
   "outputs": [],
   "source": [
    "#grid2.best_estimator_"
   ]
  },
  {
   "cell_type": "markdown",
   "id": "c0713a13",
   "metadata": {},
   "source": []
  }
 ],
 "metadata": {
  "kernelspec": {
   "display_name": "Python 3 (ipykernel)",
   "language": "python",
   "name": "python3"
  },
  "language_info": {
   "codemirror_mode": {
    "name": "ipython",
    "version": 3
   },
   "file_extension": ".py",
   "mimetype": "text/x-python",
   "name": "python",
   "nbconvert_exporter": "python",
   "pygments_lexer": "ipython3",
   "version": "3.9.13"
  }
 },
 "nbformat": 4,
 "nbformat_minor": 5
}
